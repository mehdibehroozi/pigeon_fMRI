{
 "cells": [
  {
   "cell_type": "markdown",
   "metadata": {},
   "source": [
    "\n",
    "#  Dicom to nifti, upscale voxel size by factor of 10.\n",
    "To run this script, you need to install AFNI, FSL, and xlrd.\n",
    "<br>\n",
    "To install FSL on windows 10 see: # https://fsl.fmrib.ox.ac.uk/fsl/fslwiki/FslInstallation/Windows\n",
    "<br>\n",
    "To install AFNI see: #https://afni.nimh.nih.gov/pub/dist/doc/htmldoc/background_install/install_instructs/steps_linux_ubuntu18.html\n",
    "<br>\n",
    "To install xlrd to read excel file see: #https://www.geeksforgeeks.org/reading-excel-file-using-python/\n"
   ]
  },
  {
   "cell_type": "code",
   "execution_count": 3,
   "metadata": {
    "scrolled": true
   },
   "outputs": [
    {
     "name": "stdout",
     "output_type": "stream",
     "text": [
      "dicom_dir path:  /mnt/d/Data/Pigeon/rawData/ColorDisc/Figurita62_D7_16_FW448EE.JK1/dicom/FIGURITA/1_COLORD/9/1\n",
      "out_put path:  /mnt/d/Data/Pigeon/analysis/ColorDisc/sub08/acquisition\n",
      "dicom_dir path:  /mnt/d/Data/Pigeon/rawData/ColorDisc/Figurita62_D7_16_FW448EE.JK1/dicom/FIGURITA/1_COLORD/11/1\n",
      "out_put path:  /mnt/d/Data/Pigeon/analysis/ColorDisc/sub08/acquisition\n",
      "dicom_dir path:  /mnt/d/Data/Pigeon/rawData/ColorDisc/Figurita62_D7_16_FW448EE.JK1/dicom/FIGURITA/1_COLORD/13/1\n",
      "out_put path:  /mnt/d/Data/Pigeon/analysis/ColorDisc/sub08/acquisition\n",
      "dicom_dir path:  /mnt/d/Data/Pigeon/rawData/ColorDisc/Figurita62_D7_16_FW448EE.JN1/dicom/FIGURITA/1_EXTINC/8/1\n",
      "out_put path:  /mnt/d/Data/Pigeon/analysis/ColorDisc/sub08/ext_day1\n",
      "dicom_dir path:  /mnt/d/Data/Pigeon/rawData/ColorDisc/Figurita62_D7_16_FW448EE.JN1/dicom/FIGURITA/1_EXTINC/10/1\n",
      "out_put path:  /mnt/d/Data/Pigeon/analysis/ColorDisc/sub08/ext_day1\n",
      "dicom_dir path:  /mnt/d/Data/Pigeon/rawData/ColorDisc/Figurita62_D7_16_FW448EE.JN1/dicom/FIGURITA/1_EXTINC/12/1\n",
      "out_put path:  /mnt/d/Data/Pigeon/analysis/ColorDisc/sub08/ext_day1\n",
      "dicom_dir path:  /mnt/d/Data/Pigeon/rawData/ColorDisc/Figurita62_D7_16_FW448EE.JO1/dicom/FIGURITA/1_EXTINC/9/1\n",
      "out_put path:  /mnt/d/Data/Pigeon/analysis/ColorDisc/sub08/ext_day2\n",
      "dicom_dir path:  /mnt/d/Data/Pigeon/rawData/ColorDisc/Figurita62_D7_16_FW448EE.JO1/dicom/FIGURITA/1_EXTINC/11/1\n",
      "out_put path:  /mnt/d/Data/Pigeon/analysis/ColorDisc/sub08/ext_day2\n",
      "dicom_dir path:  /mnt/d/Data/Pigeon/rawData/ColorDisc/Figurita62_D7_16_FW448EE.JO1/dicom/FIGURITA/1_EXTINC/13/1\n",
      "out_put path:  /mnt/d/Data/Pigeon/analysis/ColorDisc/sub08/ext_day2\n",
      "dicom_dir path:  /mnt/d/Data/Pigeon/rawData/ColorDisc/Figurita62_D7_16_FW448EE.JV1/dicom/FIGURITA/1_EXTINC/8/1\n",
      "out_put path:  /mnt/d/Data/Pigeon/analysis/ColorDisc/sub08/ext_day9\n",
      "dicom_dir path:  /mnt/d/Data/Pigeon/rawData/ColorDisc/Figurita62_D7_16_FW448EE.JV1/dicom/FIGURITA/1_EXTINC/10/1\n",
      "out_put path:  /mnt/d/Data/Pigeon/analysis/ColorDisc/sub08/ext_day9\n",
      "dicom_dir path:  /mnt/d/Data/Pigeon/rawData/ColorDisc/Figurita62_D7_16_FW448EE.JV1/dicom/FIGURITA/1_EXTINC/12/1\n",
      "out_put path:  /mnt/d/Data/Pigeon/analysis/ColorDisc/sub08/ext_day9\n"
     ]
    }
   ],
   "source": [
    "#!/usr/bin/env python\n",
    "\n",
    "# Reading an excel file using Python \n",
    "import xlrd \n",
    "import os\n",
    "\n",
    "# Give the location of the excel file \n",
    "loc = (\"/mnt/d/Data/Pigeon/experiments_info_ColorDisc.xlsx\") \n",
    "analysis_path = \"/mnt/d/Data/Pigeon/analysis/ColorDisc\"\n",
    "rescale_factor = 10\n",
    "# To open Workbook \n",
    "wb = xlrd.open_workbook(loc) \n",
    "sheet = wb.sheet_by_index(0) \n",
    "for r in range(sheet.nrows):\n",
    "     if sheet.cell_value(r,3) == 1:\n",
    "        raw_path = sheet.cell_value(r,8)\n",
    "        if sheet.cell_value(r,4) == 'ColorDisc':\n",
    "            output_path = (analysis_path+ \"/sub%02d/acquisition\")%(int(sheet.cell_value(r,0)))\n",
    "            dicom_directory = os.path.join(raw_path,'dicom/FIGURITA/1_COLORD',str(int(sheet.cell_value(r,7))),'1')\n",
    "\n",
    "        elif sheet.cell_value(r,4) == 'Extinction01':\n",
    "            output_path = (analysis_path+ \"/sub%02d/ext_day1\")%(int(sheet.cell_value(r,0)))\n",
    "            dicom_directory = os.path.join(raw_path,'dicom/FIGURITA/1_EXTINC',str(int(sheet.cell_value(r,7))),'1')\n",
    "\n",
    "        elif sheet.cell_value(r,4) == 'Extinction02':\n",
    "            output_path = (analysis_path+ \"/sub%02d/ext_day2\")%(int(sheet.cell_value(r,0)))\n",
    "            dicom_directory = os.path.join(raw_path,'dicom/FIGURITA/1_EXTINC',str(int(sheet.cell_value(r,7))),'1')\n",
    "            \n",
    "        elif sheet.cell_value(r,4) == 'Extinction03':\n",
    "            output_path = (analysis_path+ \"/sub%02d/ext_day9\")%(int(sheet.cell_value(r,0)))\n",
    "            dicom_directory = os.path.join(raw_path,'dicom/FIGURITA/1_EXTINC',str(int(sheet.cell_value(r,7))),'1')\n",
    "            \n",
    "        \n",
    "        #print(dicom_directory)\n",
    "        print('dicom_dir path: ',dicom_directory)  \n",
    "        print('out_put path: ',output_path)\n",
    "\n",
    "        if os.path.exists(output_path):\n",
    "            pass\n",
    "        else:\n",
    "            os.makedirs(output_path)\n",
    "            \n",
    "        if sheet.cell_value(r,6) == 'Task':\n",
    "            dst = os.path.join(output_path, 'func.nii.gz')\n",
    "        elif sheet.cell_value(r,6) == '3DAnat':\n",
    "            dst = os.path.join(output_path, 'anat.nii.gz')\n",
    "        elif sheet.cell_value(r,6) == 'Expanded':\n",
    "            dst = os.path.join(output_path, 'expanded_func.nii.gz')\n",
    "         \n",
    "        if os.path.exists(dst):\n",
    "            pass\n",
    "        else:\n",
    "            os.system('dcm2nii -4 -g -o %s %s '%(output_path,dicom_directory)) \n",
    "            files = os.listdir(output_path)\n",
    "            src = os.path.join(output_path, files[0])\n",
    "            os.rename(src, dst) \n",
    "            #upscale voxel size by factor of 10\n",
    "            os.system('3drefit -xyzscale %s %s'%(rescale_factor,dst))\n",
    "            #reoriet data to atlas orient\n",
    "            #os.system('fslswapdim %s x -z -y %s'%(dst,dst))\n",
    "\n",
    "           \n",
    "        "
   ]
  }
 ],
 "metadata": {
  "kernelspec": {
   "display_name": "Python 3",
   "language": "python",
   "name": "python3"
  },
  "language_info": {
   "codemirror_mode": {
    "name": "ipython",
    "version": 3
   },
   "file_extension": ".py",
   "mimetype": "text/x-python",
   "name": "python",
   "nbconvert_exporter": "python",
   "pygments_lexer": "ipython3",
   "version": "3.7.4"
  }
 },
 "nbformat": 4,
 "nbformat_minor": 2
}
