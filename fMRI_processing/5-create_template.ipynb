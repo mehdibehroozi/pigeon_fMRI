{
 "cells": [
  {
   "cell_type": "markdown",
   "metadata": {},
   "source": [
    "# template construction:\n",
    "1. Make a directory for your data. Copy or link all the images into it.\n",
    "2. On the command line, within that directory, run the following command: bash\n",
    "antsMultivariateTemplateConstruction2.sh to get usage.\n",
    "# **Example: **\n",
    "antsMultivariateTemplateConstruction.sh -d 3 -m 30x50x20 -t GR -s CC -c 1 -o MY -z InitialTemplate.nii.gz  *RF*T1x.nii.gz\n",
    "\n",
    "- In this example 30x50x20 iterations per registration are used for template creation (that is the default)\n",
    "- Greedy-SyN and CC are the metrics to guide the mapping.\n",
    "- Output is prepended with MY and the initial template is InitialTemplate.nii.gz (optional).\n",
    "- The -c option is set to 1, which will result in using the Sun Grid Engine (SGE) to distribute the computation.\n",
    "- if you do not have SGE, read the help for multi-core computation on the local machine, or Apple X-grid options.\n"
   ]
  },
  {
   "cell_type": "markdown",
   "metadata": {},
   "source": [
    "**1-Creat a folder for template construction and copy all anatoical data to this folder**"
   ]
  },
  {
   "cell_type": "code",
   "execution_count": 1,
   "metadata": {},
   "outputs": [
    {
     "name": "stdout",
     "output_type": "stream",
     "text": [
      "/mnt/d/Data/Pigeon/analysis/ColorDisc/sub01/anat/anat_brain.nii.gz\n",
      "/mnt/d/Data/Pigeon/analysis/ColorDisc/sub02/anat/anat_brain.nii.gz\n",
      "/mnt/d/Data/Pigeon/analysis/ColorDisc/sub03/anat/anat_brain.nii.gz\n",
      "/mnt/d/Data/Pigeon/analysis/ColorDisc/sub04/anat/anat_brain.nii.gz\n",
      "/mnt/d/Data/Pigeon/analysis/ColorDisc/sub05/anat/anat_brain.nii.gz\n",
      "/mnt/d/Data/Pigeon/analysis/ColorDisc/sub06/anat/anat_brain.nii.gz\n",
      "/mnt/d/Data/Pigeon/analysis/ColorDisc/sub07/anat/anat_brain.nii.gz\n",
      "/mnt/d/Data/Pigeon/analysis/ColorDisc/sub08/anat/anat_brain.nii.gz\n"
     ]
    }
   ],
   "source": [
    "import os\n",
    "import glob\n",
    "from shutil import copyfile\n",
    "\n",
    "data_path = '/mnt/d/Data/Pigeon/analysis/ColorDisc'\n",
    "template_path = '/mnt/d/Data/Pigeon/analysis/ColorDisc/template'\n",
    "anat_dirs = glob.glob('%s/sub*/anat/anat_brain.nii.gz'%(data_path))\n",
    " # creat a template directory\n",
    "if os.path.exists(template_path):\n",
    "    pass\n",
    "else:\n",
    "    os.mkdir(template_path)\n",
    "for curr_anat in anat_dirs:\n",
    "    print(curr_anat)\n",
    "    D = curr_anat.split('/');\n",
    "    D1 = 'highres_'+D[-3]+'.nii.gz'\n",
    "    dst = os.path.join(template_path,D1)\n",
    "    copyfile(curr_anat,dst)"
   ]
  },
  {
   "cell_type": "markdown",
   "metadata": {},
   "source": [
    "**2- run antsMultivariateTemplateConstruction**"
   ]
  },
  {
   "cell_type": "code",
   "execution_count": 2,
   "metadata": {},
   "outputs": [
    {
     "data": {
      "text/plain": [
       "0"
      ]
     },
     "execution_count": 2,
     "metadata": {},
     "output_type": "execute_result"
    }
   ],
   "source": [
    "import os\n",
    "os.chdir(template_path)\n",
    "os.system('antsMultivariateTemplateConstruction.sh -d 3 -m 30x50x20 -t GR -s CC -c 0 -o MY -z highres_sub01.nii.gz Highres*.nii.gz')"
   ]
  },
  {
   "cell_type": "code",
   "execution_count": null,
   "metadata": {},
   "outputs": [],
   "source": [
    "from nilearn.plotting import plot_anat\n",
    "%matplotlib inline\n",
    "import matplotlib.pyplot as plt\n",
    "dir = os.path.join(template_path,'MYtemplate0.nii.gz')\n",
    "plot_anat(dir, title='Template', cut_coords = (20,20,10),\n",
    "          display_mode='ortho', dim=-1, draw_cross=False, annotate=False)"
   ]
  }
 ],
 "metadata": {
  "kernelspec": {
   "display_name": "Python 3",
   "language": "python",
   "name": "python3"
  },
  "language_info": {
   "codemirror_mode": {
    "name": "ipython",
    "version": 3
   },
   "file_extension": ".py",
   "mimetype": "text/x-python",
   "name": "python",
   "nbconvert_exporter": "python",
   "pygments_lexer": "ipython3",
   "version": "3.7.4"
  }
 },
 "nbformat": 4,
 "nbformat_minor": 4
}
