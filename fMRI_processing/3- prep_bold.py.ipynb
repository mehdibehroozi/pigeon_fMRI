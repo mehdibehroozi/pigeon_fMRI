{
 "cells": [
  {
   "cell_type": "markdown",
   "metadata": {},
   "source": [
    "# Run framewise displasment"
   ]
  },
  {
   "cell_type": "code",
   "execution_count": null,
   "metadata": {},
   "outputs": [
    {
     "name": "stdout",
     "output_type": "stream",
     "text": [
      "/mnt/d/Data/Pigeon/analysis/ColorDisc/sub01/acquisition\n",
      "/mnt/d/Data/Pigeon/analysis/ColorDisc/sub01/ext_day1\n"
     ]
    }
   ],
   "source": [
    "import glob\n",
    "import os\n",
    "import sys\n",
    "import subprocess\n",
    " \n",
    "path = '/mnt/d/Data/Pigeon/analysis/ColorDisc/'\n",
    " \n",
    "bold_files = glob.glob('%s/sub*/*/func.nii.gz'%(path))\n",
    "\n",
    "# I'm using a big html file to put all QA info together.  If you have other suggestions, let me know!\n",
    "outhtml = \"/mnt/d/Data/Pigeon/analysis/ColorDisc/Scripts/bold_motion_QA.html\"\n",
    "out_bad_bold_list = \"/mnt/d/Data/Pigeon/analysis/ColorDisc/Scripts/subs_lose_gt_45_vol_scrub.txt\"\n",
    " \n",
    "os.system(\"rm %s\"%(out_bad_bold_list))\n",
    "os.system(\"rm %s\"%(outhtml))\n",
    " \n",
    "for cur_bold in list(bold_files):\n",
    "    #print(cur_bold)\n",
    "     # Store directory name\n",
    "    cur_dir = os.path.dirname(cur_bold)\n",
    "    print(cur_dir)\n",
    "    # strip off .nii.gz from file name (makes code below easier)\n",
    "    #cur_bold_no_nii = cur_bold[:-7]\n",
    "    #print(cur_bold_no_nii)\n",
    "    #  You can also use fslreorient2std BUT\n",
    "    #  BUT BUT BUT DO NOT RUN THIS UNLESS YOUR DATA ACTUALLY NEED IT!\n",
    "    #os.system(\"fslswapdim %s z -x -y %s_swapped\"%(cur_bold_no_nii, cur_bold_no_nii))\n",
    "    # Once you're confident this works correctly, you can change the above to\n",
    "    #  overwrite bold.nii.gz (saves disc space)\n",
    " \n",
    "    # This is used to trim off unwanted volumes\n",
    "    # DO NOT USE THIS UNLESS YOU'VE DOUBLE CHECKED HOW MANY\n",
    "    # VOLUMES NEED TO BE TRIMMED (IF ANY)\n",
    "    # This trims first 2 and I set the max to a number far beyond\n",
    "    # the number of TRs\n",
    "    # Correct filename here to use output of previous step (if used)\n",
    "    #os.system(\"fslroi %s %s_trimmed 2 300\"%(cur_bold_no_nii, cur_bold_no_nii))\n",
    "    # Once you're confident this works correctly, you can change the above to\n",
    "    #   overwrite bold.nii.gz\n",
    " \n",
    "    # Assessing motion.  This is what takes the longest\n",
    "    # Check current literature to see if this thresh (0.9) is\n",
    "    #  acceptable\n",
    "    # I got it from here: http://www.ncbi.nlm.nih.gov/pubmed/23861343\n",
    "    # Also, consider using FSL's FIX to clean your data\n",
    "    output_path = os.path.join(cur_dir,'motion_assess')\n",
    "    if os.path.isdir(\"%s\"%(output_path))==False:\n",
    "        os.makedirs(output_path)\n",
    "\n",
    "    os.system(\"fsl_motion_outliers -i %s -o %s/confound.txt --fd --thresh=2 -p %s/fd_plot -s %s/fd_par.txt -v > %s/outlier_output.txt\"%(cur_bold, output_path, output_path, output_path, output_path))\n",
    "    # Put confound info into html file for review later on\n",
    "    os.system(\"cat %s/outlier_output.txt >> %s\"%(output_path, outhtml))\n",
    "    os.system(\"echo '<p>=============<p>FD plot %s <br><IMG BORDER=0 SRC=%s/fd_plot.png WIDTH=100%s></BODY></HTML>' >> %s\"%(output_path, output_path,'%', outhtml))\n",
    " \n",
    "    # Last, if we're planning on modeling out scrubbed volumes later\n",
    "    #   it is helpful to create an empty file if confound.txt isn't\n",
    "    #   generated (i.e. no scrubbing needed).  It is basically a\n",
    "    #   place holder to make future scripting easier\n",
    "    if os.path.isfile(\"%s/confound.txt\"%(output_path))==False:\n",
    "        os.system(\"touch %s/confound.txt\"%(output_path))\n",
    " \n",
    "    # Very last, create a list of subjects who exceed a threshold for\n",
    "    #  number of scrubbed volumes.  This should be taken seriously.  If\n",
    "    #  most of your scrubbed data are occurring during task, that's\n",
    "    #  important to consider (e.g. subject with 20 volumes scrubbed\n",
    "    #  during task is much worse off than subject with 20 volumes\n",
    "    #  scrubbed during baseline.\n",
    "    # These data have about 182 volumes and I'd hope to keep 140\n",
    "    #  DO NOT USE 140 JUST BECAUSE I AM.  LOOK AT YOUR DATA AND\n",
    "    #  COME TO AN AGREED VALUE WITH OTHER RESEARCHERS IN YOUR GROUP\n",
    "    output = subprocess.check_output(\"grep -o 1 %s/confound.txt | wc -l\"%(output_path), shell=True)\n",
    "    num_scrub = [int(s) for s in output.split() if s.isdigit()]\n",
    "    if num_scrub[0]>45:\n",
    "        with open(out_bad_bold_list, \"a\") as myfile:\n",
    "            myfile.write(\"%s\\n\"%(cur_bold))"
   ]
  },
  {
   "cell_type": "code",
   "execution_count": null,
   "metadata": {},
   "outputs": [],
   "source": []
  }
 ],
 "metadata": {
  "kernelspec": {
   "display_name": "Python 3",
   "language": "python",
   "name": "python3"
  },
  "language_info": {
   "codemirror_mode": {
    "name": "ipython",
    "version": 3
   },
   "file_extension": ".py",
   "mimetype": "text/x-python",
   "name": "python",
   "nbconvert_exporter": "python",
   "pygments_lexer": "ipython3",
   "version": "3.7.4"
  }
 },
 "nbformat": 4,
 "nbformat_minor": 4
}
