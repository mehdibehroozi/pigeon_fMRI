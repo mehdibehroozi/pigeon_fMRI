{
 "cells": [
  {
   "cell_type": "markdown",
   "metadata": {},
   "source": [
    "# Conver Bruker to dicom\n",
    "To run this script, you need to install Dicomifier: https://github.com/lamyj/dicomifier"
   ]
  },
  {
   "cell_type": "code",
   "execution_count": 3,
   "metadata": {},
   "outputs": [
    {
     "name": "stdout",
     "output_type": "stream",
     "text": [
      "/mnt/d/Data/Pigeon/rawData/ColorDisc/Figurita03_Nw4444EED7.JK1\n",
      "/mnt/d/Data/Pigeon/rawData/ColorDisc/Figurita05_M617EED7_13.Jb1\n",
      "/mnt/d/Data/Pigeon/rawData/ColorDisc/Figurita05_M617EED7_13.Je1\n",
      "/mnt/d/Data/Pigeon/rawData/ColorDisc/Figurita05_M617EED7_13.Jf1\n",
      "/mnt/d/Data/Pigeon/rawData/ColorDisc/Figurita05_M617EED7_13.Jm1\n",
      "/mnt/d/Data/Pigeon/rawData/ColorDisc/Figurita06_NB670EED8_13.IZ2\n",
      "/mnt/d/Data/Pigeon/rawData/ColorDisc/Figurita06_NB670EED8_13.J11\n",
      "/mnt/d/Data/Pigeon/rawData/ColorDisc/Figurita06_NB670EED8_13.J22\n",
      "/mnt/d/Data/Pigeon/rawData/ColorDisc/Figurita06_NB670EED8_13.J81\n",
      "/mnt/d/Data/Pigeon/rawData/ColorDisc/Figurita07_M600EED7_13.J61\n",
      "/mnt/d/Data/Pigeon/rawData/ColorDisc/Figurita07_M600EED7_13.Je1\n",
      "/mnt/d/Data/Pigeon/rawData/ColorDisc/Figurita07_M600EED7_13.Jf1\n",
      "/mnt/d/Data/Pigeon/rawData/ColorDisc/Figurita07_M600EED7_13.Jm1\n",
      "/mnt/d/Data/Pigeon/rawData/ColorDisc/Figurita10_M663EED7_13.IT2\n",
      "/mnt/d/Data/Pigeon/rawData/ColorDisc/Figurita10_M663EED7_13.IU1\n",
      "/mnt/d/Data/Pigeon/rawData/ColorDisc/Figurita10_M663EED7_13.Iy1\n",
      "/mnt/d/Data/Pigeon/rawData/ColorDisc/Figurita10_M663EED7_13.J11\n",
      "/mnt/d/Data/Pigeon/rawData/ColorDisc/Figurita53_NI_S7_12_2523EE.JN1\n",
      "/mnt/d/Data/Pigeon/rawData/ColorDisc/Figurita53_NI_S7_12_2523EE.JO1\n",
      "/mnt/d/Data/Pigeon/rawData/ColorDisc/Figurita53_NI_S7_12_2523EE.JV1\n",
      "/mnt/d/Data/Pigeon/rawData/ColorDisc/Figurita54_D7_16_KB421EE.JM2\n",
      "/mnt/d/Data/Pigeon/rawData/ColorDisc/Figurita54_D7_16_KB421EE.K11\n",
      "/mnt/d/Data/Pigeon/rawData/ColorDisc/Figurita54_D7_16_KB421EE.K21\n",
      "/mnt/d/Data/Pigeon/rawData/ColorDisc/Figurita54_D7_16_KB421EE.K92\n",
      "/mnt/d/Data/Pigeon/rawData/ColorDisc/Figurita55_D7_15_KT784EE.J71\n",
      "/mnt/d/Data/Pigeon/rawData/ColorDisc/Figurita55_D7_15_KT784EE.Je1\n",
      "/mnt/d/Data/Pigeon/rawData/ColorDisc/Figurita55_D7_15_KT784EE.Jf1\n",
      "/mnt/d/Data/Pigeon/rawData/ColorDisc/Figurita55_D7_15_KT784EE.Jm1\n",
      "/mnt/d/Data/Pigeon/rawData/ColorDisc/Figurita62_D7_16_FW448EE.JK1\n",
      "/mnt/d/Data/Pigeon/rawData/ColorDisc/Figurita62_D7_16_FW448EE.JN1\n",
      "/mnt/d/Data/Pigeon/rawData/ColorDisc/Figurita62_D7_16_FW448EE.JO1\n",
      "/mnt/d/Data/Pigeon/rawData/ColorDisc/Figurita62_D7_16_FW448EE.JV1\n"
     ]
    }
   ],
   "source": [
    "import glob\n",
    "import os\n",
    "\n",
    "rawData_path = \"/mnt/d/Data/Pigeon/rawData/ColorDisc/\"\n",
    "bruker_files = glob.glob('%s/*'%(rawData_path))\n",
    "for curr_files in list(bruker_files):\n",
    "    print(curr_files)\n",
    "    os.system('bruker2dicom convert %s %s/dicom/'%(curr_files,curr_files))"
   ]
  },
  {
   "cell_type": "code",
   "execution_count": null,
   "metadata": {},
   "outputs": [],
   "source": []
  }
 ],
 "metadata": {
  "kernelspec": {
   "display_name": "Python 3",
   "language": "python",
   "name": "python3"
  },
  "language_info": {
   "codemirror_mode": {
    "name": "ipython",
    "version": 3
   },
   "file_extension": ".py",
   "mimetype": "text/x-python",
   "name": "python",
   "nbconvert_exporter": "python",
   "pygments_lexer": "ipython3",
   "version": "3.7.4"
  }
 },
 "nbformat": 4,
 "nbformat_minor": 4
}
